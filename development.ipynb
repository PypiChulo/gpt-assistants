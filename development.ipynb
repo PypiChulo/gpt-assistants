{
 "cells": [
  {
   "cell_type": "code",
   "execution_count": 3,
   "metadata": {},
   "outputs": [
    {
     "name": "stdout",
     "output_type": "stream",
     "text": [
      "asst_Uk3mM8na2UxtqPFOBK907NV4 - Coding Mozart\n",
      "asst_8FyXa6LCveITQR0pThZdxZ9g - Software Engineer\n",
      "asst_DMj6s8snLGbZOFxgjNyDQhVa - PythonData Scientist\n",
      "asst_1xB5kfUEYOYKZjpZhzUncPa1 - FastAPI BE\n",
      "asst_XA6P33MZydHN1mWbB2b2P749 - PythonExpert\n",
      "asst_uKqtIhXVqf8qpaJ8GHauToXz - SlidesAssistant\n",
      "asst_FyJ2u2n0GD7KMJ6wl35MstLH - PythonTeacherAssistant\n"
     ]
    }
   ],
   "source": [
    "from src.openai_assistants_api.assistant import AssistantClient\n",
    "\n",
    "assistant_client = AssistantClient()\n",
    "\n",
    "assistants_list = assistant_client.get_list()\n",
    "assistants_formatted_list = \"\\n\".join([f\"{assistant['id']} - {assistant['name']}\"\n",
    "                                       for assistant in assistants_list])\n",
    "print(assistants_formatted_list)"
   ]
  },
  {
   "cell_type": "code",
   "execution_count": 4,
   "metadata": {},
   "outputs": [],
   "source": [
    "assistant_id = \"asst_FyJ2u2n0GD7KMJ6wl35MstLH\""
   ]
  },
  {
   "cell_type": "code",
   "execution_count": 2,
   "metadata": {},
   "outputs": [
    {
     "name": "stdout",
     "output_type": "stream",
     "text": [
      "creating thread..\n",
      "creating message..\n",
      "creating run..\n",
      "waiting for run to complete..\n",
      "deleting thread..\n",
      "Of course, I'd be happy to help with your presentation! What specifically do you need help with? Are you looking for topics to cover, assistance with creating slides, providing examples of Python code, or something else? Please provide me with more details, so I can assist you effectively.\n"
     ]
    }
   ],
   "source": [
    "from src.flow_utils import get_assistant_completion\n",
    "\n",
    "\n",
    "message = \"hello, can you help me with a presentation?\"\n",
    "\n",
    "last_message = get_assistant_completion(assistant_id, message, ephemeral_thread=True)\n",
    "print(last_message)"
   ]
  },
  {
   "cell_type": "code",
   "execution_count": null,
   "metadata": {},
   "outputs": [],
   "source": [
    "# TODO list\n",
    "# 1. Implement function calling"
   ]
  }
 ],
 "metadata": {
  "kernelspec": {
   "display_name": ".venv",
   "language": "python",
   "name": "python3"
  },
  "language_info": {
   "codemirror_mode": {
    "name": "ipython",
    "version": 3
   },
   "file_extension": ".py",
   "mimetype": "text/x-python",
   "name": "python",
   "nbconvert_exporter": "python",
   "pygments_lexer": "ipython3",
   "version": "3.10.6"
  }
 },
 "nbformat": 4,
 "nbformat_minor": 2
}
